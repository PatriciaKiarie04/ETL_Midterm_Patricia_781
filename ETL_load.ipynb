{
 "cells": [
  {
   "cell_type": "code",
   "execution_count": 15,
   "id": "0f4d9841",
   "metadata": {},
   "outputs": [
    {
     "name": "stdout",
     "output_type": "stream",
     "text": [
      "   order_id customer_name product  quantity  unit_price  order_date region  \\\n",
      "0         1         Diana  Tablet       2.0       500.0  2024-01-20  South   \n",
      "1         2           Eve  Laptop       2.0       500.0  2024-04-29  North   \n",
      "2         3       Charlie  Laptop       2.0       250.0  2024-01-08  South   \n",
      "3         4           Eve  Laptop       2.0       750.0  2024-01-07   West   \n",
      "4         5           Eve  Tablet       3.0       500.0  2024-03-07  South   \n",
      "\n",
      "   total_price  \n",
      "0       1000.0  \n",
      "1       1000.0  \n",
      "2        500.0  \n",
      "3       1500.0  \n",
      "4       1500.0  \n"
     ]
    }
   ],
   "source": [
    "import pandas as pd\n",
    "\n",
    "# Save DataFrames to parquet\n",
    "raw_data.to_parquet(r\"C:\\Users\\flags\\OneDrive\\Desktop\\DSA 2040 MID-SEM\\Loaded\\full_data.parquet\")\n",
    "inc_data.to_parquet(r\"C:\\Users\\flags\\OneDrive\\Desktop\\DSA 2040 MID-SEM\\Loaded\\incremental_data.parquet\")\n",
    "\n",
    "# Verify loading\n",
    "print(pd.read_parquet(r\"C:\\Users\\flags\\OneDrive\\Desktop\\DSA 2040 MID-SEM\\Loaded\\full_data.parquet\").head())"
   ]
  }
 ],
 "metadata": {
  "kernelspec": {
   "display_name": "Python 3",
   "language": "python",
   "name": "python3"
  },
  "language_info": {
   "codemirror_mode": {
    "name": "ipython",
    "version": 3
   },
   "file_extension": ".py",
   "mimetype": "text/x-python",
   "name": "python",
   "nbconvert_exporter": "python",
   "pygments_lexer": "ipython3",
   "version": "3.12.6"
  }
 },
 "nbformat": 4,
 "nbformat_minor": 5
}

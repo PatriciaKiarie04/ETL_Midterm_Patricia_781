{
 "cells": [
  {
   "cell_type": "code",
   "execution_count": 8,
   "id": "0f4d9841",
   "metadata": {},
   "outputs": [],
   "source": [
    "import pandas as pd\n",
    "\n",
    "# Load transformed data\n",
    "raw_data = pd.read_csv(r'c:\\Users\\flags\\OneDrive\\Desktop\\DSA 2040 MID-SEM\\Transformed\\transformed_full.csv')\n",
    "inc_data = pd.read_csv(r'c:\\Users\\flags\\OneDrive\\Desktop\\DSA 2040 MID-SEM\\Transformed\\transformed_incremental.csv')\n",
    "\n",
    "# raw_data.to_parquet('loaded/full_data.parquet')\n",
    "# inc_data.to_parquet('loaded/incremental_data.parquet')\n",
    "\n",
    "# # Verify loading\n",
    "# print(pd.read_parquet('loaded/full_data.parquet').head())"
   ]
  }
 ],
 "metadata": {
  "kernelspec": {
   "display_name": "Python 3",
   "language": "python",
   "name": "python3"
  },
  "language_info": {
   "codemirror_mode": {
    "name": "ipython",
    "version": 3
   },
   "file_extension": ".py",
   "mimetype": "text/x-python",
   "name": "python",
   "nbconvert_exporter": "python",
   "pygments_lexer": "ipython3",
   "version": "3.12.6"
  }
 },
 "nbformat": 4,
 "nbformat_minor": 5
}

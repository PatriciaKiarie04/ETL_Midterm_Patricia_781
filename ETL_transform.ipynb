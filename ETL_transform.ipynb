{
 "cells": [
  {
   "cell_type": "code",
   "execution_count": 4,
   "id": "35c4aafe",
   "metadata": {},
   "outputs": [
    {
     "name": "stdout",
     "output_type": "stream",
     "text": [
      "Before handling missing values:\n",
      "order_id          0\n",
      "customer_name     1\n",
      "product           0\n",
      "quantity         26\n",
      "unit_price       35\n",
      "order_date        1\n",
      "region           25\n",
      "dtype: int64\n",
      "\n",
      "After handling missing values:\n",
      "order_id         0\n",
      "customer_name    0\n",
      "product          0\n",
      "quantity         0\n",
      "unit_price       0\n",
      "order_date       0\n",
      "region           0\n",
      "dtype: int64\n",
      "\n",
      "Before removing duplicates: 100\n",
      "After removing duplicates: 99\n",
      "\n",
      "Added total_price column:\n",
      "   quantity  unit_price  total_price\n",
      "0       2.0       500.0       1000.0\n",
      "1       2.0       500.0       1000.0\n",
      "2       2.0       250.0        500.0\n",
      "3       2.0       750.0       1500.0\n",
      "4       3.0       500.0       1500.0\n",
      "\n",
      "Converted order_date to datetime:\n",
      "0   2024-01-20\n",
      "1   2024-04-29\n",
      "2   2024-01-08\n",
      "3   2024-01-07\n",
      "4   2024-03-07\n",
      "Name: order_date, dtype: datetime64[ns]\n"
     ]
    },
    {
     "name": "stderr",
     "output_type": "stream",
     "text": [
      "C:\\Users\\flags\\AppData\\Local\\Temp\\ipykernel_12212\\4198381834.py:38: UserWarning: Parsing dates in %d/%m/%Y format when dayfirst=False (the default) was specified. Pass `dayfirst=True` or specify a format to silence this warning.\n",
      "  raw_data[col] = pd.to_datetime(raw_data[col], errors='coerce')\n"
     ]
    }
   ],
   "source": [
    "import pandas as pd\n",
    "from datetime import datetime\n",
    "\n",
    "# Load data\n",
    "raw_data = pd.read_csv('data/raw_data.csv')\n",
    "inc_data = pd.read_csv('data/inc_data.csv')\n",
    "\n",
    "# Transformation 1: Handle missing values\n",
    "print(\"Before handling missing values:\")\n",
    "print(raw_data.isna().sum())\n",
    "\n",
    "# Fill numeric missing values with median\n",
    "numeric_cols = raw_data.select_dtypes(include=['number']).columns\n",
    "raw_data[numeric_cols] = raw_data[numeric_cols].fillna(raw_data[numeric_cols].median())\n",
    "\n",
    "# Fill categorical missing values with mode\n",
    "categorical_cols = raw_data.select_dtypes(include=['object']).columns\n",
    "for col in categorical_cols:\n",
    "    raw_data[col] = raw_data[col].fillna(raw_data[col].mode()[0])\n",
    "\n",
    "print(\"\\nAfter handling missing values:\")\n",
    "print(raw_data.isna().sum())\n",
    "\n",
    "# Transformation 2: Remove duplicates\n",
    "print(\"\\nBefore removing duplicates:\", len(raw_data))\n",
    "raw_data = raw_data.drop_duplicates()\n",
    "print(\"After removing duplicates:\", len(raw_data))\n",
    "\n",
    "# Transformation 3: Create new calculated column\n",
    "if 'quantity' in raw_data.columns and 'unit_price' in raw_data.columns:\n",
    "    raw_data['total_price'] = raw_data['quantity'] * raw_data['unit_price']\n",
    "    print(\"\\nAdded total_price column:\")\n",
    "    print(raw_data[['quantity', 'unit_price', 'total_price']].head())\n",
    "\n",
    "# Transformation 4: Convert date strings to datetime\n",
    "date_cols = [col for col in raw_data.columns if 'date' in col.lower()]\n",
    "for col in date_cols:\n",
    "    raw_data[col] = pd.to_datetime(raw_data[col], errors='coerce')\n",
    "    print(f\"\\nConverted {col} to datetime:\")\n",
    "    print(raw_data[col].head())\n",
    "\n",
    "# Apply same transformations to incremental data\n",
    "# (Repeat similar transformations for inc_data)\n",
    "\n",
    "# Save transformed data to csv file\n",
    "inc_data.to_csv(r\"c:\\Users\\flags\\OneDrive\\Desktop\\DSA 2040 MID-SEM\\Transformed\\transformed_incremental.csv\", index=False)\n",
    "# Save the raw data to CSV file\n",
    "raw_data.to_csv(r\"C:\\Users\\flags\\OneDrive\\Desktop\\DSA 2040 MID-SEM\\Transformed\\transformed_full.csv\", index=False)\n"
   ]
  },
  {
   "cell_type": "code",
   "execution_count": 11,
   "id": "c500b721",
   "metadata": {},
   "outputs": [
    {
     "name": "stderr",
     "output_type": "stream",
     "text": [
      "\n",
      "[notice] A new release of pip is available: 24.2 -> 25.1.1\n",
      "[notice] To update, run: python.exe -m pip install --upgrade pip\n"
     ]
    },
    {
     "name": "stdout",
     "output_type": "stream",
     "text": [
      "Note: you may need to restart the kernel to use updated packages.Defaulting to user installation because normal site-packages is not writeable\n",
      "Collecting matplotlib\n",
      "  Downloading matplotlib-3.10.3-cp312-cp312-win_amd64.whl.metadata (11 kB)\n",
      "Collecting contourpy>=1.0.1 (from matplotlib)\n",
      "  Downloading contourpy-1.3.2-cp312-cp312-win_amd64.whl.metadata (5.5 kB)\n",
      "Collecting cycler>=0.10 (from matplotlib)\n",
      "  Downloading cycler-0.12.1-py3-none-any.whl.metadata (3.8 kB)\n",
      "Collecting fonttools>=4.22.0 (from matplotlib)\n",
      "  Downloading fonttools-4.58.4-cp312-cp312-win_amd64.whl.metadata (108 kB)\n",
      "Collecting kiwisolver>=1.3.1 (from matplotlib)\n",
      "  Downloading kiwisolver-1.4.8-cp312-cp312-win_amd64.whl.metadata (6.3 kB)\n",
      "Requirement already satisfied: numpy>=1.23 in c:\\users\\flags\\appdata\\roaming\\python\\python312\\site-packages (from matplotlib) (2.2.6)\n",
      "Requirement already satisfied: packaging>=20.0 in c:\\users\\flags\\appdata\\roaming\\python\\python312\\site-packages (from matplotlib) (24.1)\n",
      "Collecting pillow>=8 (from matplotlib)\n",
      "  Downloading pillow-11.2.1-cp312-cp312-win_amd64.whl.metadata (9.1 kB)\n",
      "Collecting pyparsing>=2.3.1 (from matplotlib)\n",
      "  Downloading pyparsing-3.2.3-py3-none-any.whl.metadata (5.0 kB)\n",
      "Requirement already satisfied: python-dateutil>=2.7 in c:\\users\\flags\\appdata\\roaming\\python\\python312\\site-packages (from matplotlib) (2.9.0.post0)\n",
      "Requirement already satisfied: six>=1.5 in c:\\users\\flags\\appdata\\roaming\\python\\python312\\site-packages (from python-dateutil>=2.7->matplotlib) (1.16.0)\n",
      "Downloading matplotlib-3.10.3-cp312-cp312-win_amd64.whl (8.1 MB)\n",
      "   ---------------------------------------- 0.0/8.1 MB ? eta -:--:--\n",
      "   - -------------------------------------- 0.3/8.1 MB ? eta -:--:--\n",
      "   ----- ---------------------------------- 1.0/8.1 MB 3.3 MB/s eta 0:00:03\n",
      "   ------ --------------------------------- 1.3/8.1 MB 2.9 MB/s eta 0:00:03\n",
      "   --------- ------------------------------ 1.8/8.1 MB 2.4 MB/s eta 0:00:03\n",
      "   -------------- ------------------------- 2.9/8.1 MB 2.9 MB/s eta 0:00:02\n",
      "   ------------------ --------------------- 3.7/8.1 MB 3.2 MB/s eta 0:00:02\n",
      "   ---------------------- ----------------- 4.5/8.1 MB 3.1 MB/s eta 0:00:02\n",
      "   ------------------------ --------------- 5.0/8.1 MB 3.2 MB/s eta 0:00:01\n",
      "   ------------------------- -------------- 5.2/8.1 MB 3.1 MB/s eta 0:00:01\n",
      "   --------------------------- ------------ 5.5/8.1 MB 2.6 MB/s eta 0:00:01\n",
      "   --------------------------- ------------ 5.5/8.1 MB 2.6 MB/s eta 0:00:01\n",
      "   ---------------------------- ----------- 5.8/8.1 MB 2.5 MB/s eta 0:00:01\n",
      "   ----------------------------- ---------- 6.0/8.1 MB 2.4 MB/s eta 0:00:01\n",
      "   --------------------------------- ------ 6.8/8.1 MB 2.3 MB/s eta 0:00:01\n",
      "   ------------------------------------- -- 7.6/8.1 MB 2.4 MB/s eta 0:00:01\n",
      "   ---------------------------------------- 8.1/8.1 MB 2.4 MB/s eta 0:00:00\n",
      "Downloading contourpy-1.3.2-cp312-cp312-win_amd64.whl (223 kB)\n",
      "Downloading cycler-0.12.1-py3-none-any.whl (8.3 kB)\n",
      "Downloading fonttools-4.58.4-cp312-cp312-win_amd64.whl (2.2 MB)\n",
      "   ---------------------------------------- 0.0/2.2 MB ? eta -:--:--\n",
      "   --------- ------------------------------ 0.5/2.2 MB 3.3 MB/s eta 0:00:01\n",
      "   ----------------------- ---------------- 1.3/2.2 MB 3.5 MB/s eta 0:00:01\n",
      "   ----------------------- ---------------- 1.3/2.2 MB 3.5 MB/s eta 0:00:01\n",
      "   ---------------------------- ----------- 1.6/2.2 MB 2.3 MB/s eta 0:00:01\n",
      "   -------------------------------- ------- 1.8/2.2 MB 1.7 MB/s eta 0:00:01\n",
      "   ---------------------------------------- 2.2/2.2 MB 1.9 MB/s eta 0:00:00\n",
      "Downloading kiwisolver-1.4.8-cp312-cp312-win_amd64.whl (71 kB)\n",
      "Downloading pillow-11.2.1-cp312-cp312-win_amd64.whl (2.7 MB)\n",
      "   ---------------------------------------- 0.0/2.7 MB ? eta -:--:--\n",
      "   ---------------------------------------- 0.0/2.7 MB ? eta -:--:--\n",
      "   --- ------------------------------------ 0.3/2.7 MB ? eta -:--:--\n",
      "   ------- -------------------------------- 0.5/2.7 MB 1.2 MB/s eta 0:00:02\n",
      "   ----------- ---------------------------- 0.8/2.7 MB 1.2 MB/s eta 0:00:02\n",
      "   ------------------- -------------------- 1.3/2.7 MB 1.2 MB/s eta 0:00:02\n",
      "   ------------------------------- -------- 2.1/2.7 MB 1.9 MB/s eta 0:00:01\n",
      "   ---------------------------------------- 2.7/2.7 MB 1.9 MB/s eta 0:00:00\n",
      "Downloading pyparsing-3.2.3-py3-none-any.whl (111 kB)\n",
      "Installing collected packages: pyparsing, pillow, kiwisolver, fonttools, cycler, contourpy, matplotlib\n",
      "Successfully installed contourpy-1.3.2 cycler-0.12.1 fonttools-4.58.4 kiwisolver-1.4.8 matplotlib-3.10.3 pillow-11.2.1 pyparsing-3.2.3\n",
      "\n"
     ]
    },
    {
     "data": {
      "image/png": "[encoded data removed]",
      "text/plain": [
       "<Figure size 640x480 with 1 Axes>"
      ]
     },
     "metadata": {},
     "output_type": "display_data"
    }
   ],
   "source": [
    "%pip install matplotlib\n",
    "import matplotlib.pyplot as plt\n",
    "\n",
    "# Plot histogram of total_price column\n",
    "raw_data['total_price'].hist()\n",
    "plt.title('Distribution of Total Prices')\n",
    "plt.xlabel('Total Price')\n",
    "plt.ylabel('Frequency')\n",
    "plt.tight_layout()\n",
    "plt.savefig('price_distribution.png')\n",
    "plt.show()"
   ]
  },
  {
   "cell_type": "code",
   "execution_count": 13,
   "id": "47f74c17",
   "metadata": {},
   "outputs": [
    {
     "name": "stdout",
     "output_type": "stream",
     "text": [
      "Column 'description' not found in raw_data.\n"
     ]
    }
   ],
   "source": [
    "# Text cleaning for description fields\n",
    "if 'description' in raw_data.columns:\n",
    "\traw_data['description'] = raw_data['description'].str.lower().str.strip()\n",
    "else:\n",
    "\tprint(\"Column 'description' not found in raw_data.\")"
   ]
  }
 ],
 "metadata": {
  "kernelspec": {
   "display_name": "Python 3",
   "language": "python",
   "name": "python3"
  },
  "language_info": {
   "codemirror_mode": {
    "name": "ipython",
    "version": 3
   },
   "file_extension": ".py",
   "mimetype": "text/x-python",
   "name": "python",
   "nbconvert_exporter": "python",
   "pygments_lexer": "ipython3",
   "version": "3.12.6"
  }
 },
 "nbformat": 4,
 "nbformat_minor": 5
}

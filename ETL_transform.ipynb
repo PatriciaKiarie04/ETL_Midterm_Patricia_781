{
 "cells": [
  {
   "cell_type": "code",
   "execution_count": 3,
   "id": "35c4aafe",
   "metadata": {},
   "outputs": [
    {
     "name": "stdout",
     "output_type": "stream",
     "text": [
      "Before handling missing values:\n",
      "order_id          0\n",
      "customer_name     1\n",
      "product           0\n",
      "quantity         26\n",
      "unit_price       35\n",
      "order_date        1\n",
      "region           25\n",
      "dtype: int64\n",
      "\n",
      "After handling missing values:\n",
      "order_id         0\n",
      "customer_name    0\n",
      "product          0\n",
      "quantity         0\n",
      "unit_price       0\n",
      "order_date       0\n",
      "region           0\n",
      "dtype: int64\n",
      "\n",
      "Before removing duplicates: 100\n",
      "After removing duplicates: 99\n",
      "\n",
      "Added total_price column:\n",
      "   quantity  unit_price  total_price\n",
      "0       2.0       500.0       1000.0\n",
      "1       2.0       500.0       1000.0\n",
      "2       2.0       250.0        500.0\n",
      "3       2.0       750.0       1500.0\n",
      "4       3.0       500.0       1500.0\n",
      "\n",
      "Converted order_date to datetime:\n",
      "0   2024-01-20\n",
      "1   2024-04-29\n",
      "2   2024-01-08\n",
      "3   2024-01-07\n",
      "4   2024-03-07\n",
      "Name: order_date, dtype: datetime64[ns]\n"
     ]
    },
    {
     "name": "stderr",
     "output_type": "stream",
     "text": [
      "C:\\Users\\flags\\AppData\\Local\\Temp\\ipykernel_12212\\308670294.py:38: UserWarning: Parsing dates in %d/%m/%Y format when dayfirst=False (the default) was specified. Pass `dayfirst=True` or specify a format to silence this warning.\n",
      "  raw_data[col] = pd.to_datetime(raw_data[col], errors='coerce')\n"
     ]
    }
   ],
   "source": [
    "import pandas as pd\n",
    "from datetime import datetime\n",
    "\n",
    "# Load data\n",
    "raw_data = pd.read_csv('data/raw_data.csv')\n",
    "inc_data = pd.read_csv('data/inc_data.csv')\n",
    "\n",
    "# Transformation 1: Handle missing values\n",
    "print(\"Before handling missing values:\")\n",
    "print(raw_data.isna().sum())\n",
    "\n",
    "# Fill numeric missing values with median\n",
    "numeric_cols = raw_data.select_dtypes(include=['number']).columns\n",
    "raw_data[numeric_cols] = raw_data[numeric_cols].fillna(raw_data[numeric_cols].median())\n",
    "\n",
    "# Fill categorical missing values with mode\n",
    "categorical_cols = raw_data.select_dtypes(include=['object']).columns\n",
    "for col in categorical_cols:\n",
    "    raw_data[col] = raw_data[col].fillna(raw_data[col].mode()[0])\n",
    "\n",
    "print(\"\\nAfter handling missing values:\")\n",
    "print(raw_data.isna().sum())\n",
    "\n",
    "# Transformation 2: Remove duplicates\n",
    "print(\"\\nBefore removing duplicates:\", len(raw_data))\n",
    "raw_data = raw_data.drop_duplicates()\n",
    "print(\"After removing duplicates:\", len(raw_data))\n",
    "\n",
    "# Transformation 3: Create new calculated column\n",
    "if 'quantity' in raw_data.columns and 'unit_price' in raw_data.columns:\n",
    "    raw_data['total_price'] = raw_data['quantity'] * raw_data['unit_price']\n",
    "    print(\"\\nAdded total_price column:\")\n",
    "    print(raw_data[['quantity', 'unit_price', 'total_price']].head())\n",
    "\n",
    "# Transformation 4: Convert date strings to datetime\n",
    "date_cols = [col for col in raw_data.columns if 'date' in col.lower()]\n",
    "for col in date_cols:\n",
    "    raw_data[col] = pd.to_datetime(raw_data[col], errors='coerce')\n",
    "    print(f\"\\nConverted {col} to datetime:\")\n",
    "    print(raw_data[col].head())\n",
    "\n",
    "# Apply same transformations to incremental data\n",
    "# (Repeat similar transformations for inc_data)\n",
    "\n",
    "# Save transformed data to csv file\n",
    "inc_data.to_csv(r\"c:\\Users\\flags\\OneDrive\\Desktop\\DSA 2040 MID-SEM\\Transformed\\inc_data\", index=False)\n",
    "# Save the raw data to CSV file\n",
    "raw_data.to_csv(r\"C:\\Users\\flags\\OneDrive\\Desktop\\DSA 2040 MID-SEM\\Transformed\\raw_data\", index=False)\n"
   ]
  }
 ],
 "metadata": {
  "kernelspec": {
   "display_name": "Python 3",
   "language": "python",
   "name": "python3"
  },
  "language_info": {
   "codemirror_mode": {
    "name": "ipython",
    "version": 3
   },
   "file_extension": ".py",
   "mimetype": "text/x-python",
   "name": "python",
   "nbconvert_exporter": "python",
   "pygments_lexer": "ipython3",
   "version": "3.12.6"
  }
 },
 "nbformat": 4,
 "nbformat_minor": 5
}
